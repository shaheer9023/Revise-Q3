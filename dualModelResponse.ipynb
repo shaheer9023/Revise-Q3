{
  "nbformat": 4,
  "nbformat_minor": 0,
  "metadata": {
    "colab": {
      "provenance": [],
      "authorship_tag": "ABX9TyMRjL7hn6AQZH1fG6wpIJ/l",
      "include_colab_link": true
    },
    "kernelspec": {
      "name": "python3",
      "display_name": "Python 3"
    },
    "language_info": {
      "name": "python"
    }
  },
  "cells": [
    {
      "cell_type": "markdown",
      "metadata": {
        "id": "view-in-github",
        "colab_type": "text"
      },
      "source": [
        "<a href=\"https://colab.research.google.com/github/shaheer9023/Revise-Q3/blob/main/dualModelResponse.ipynb\" target=\"_parent\"><img src=\"https://colab.research.google.com/assets/colab-badge.svg\" alt=\"Open In Colab\"/></a>"
      ]
    },
    {
      "cell_type": "code",
      "source": [
        "# ======== Step 1: Install Required Libraries ========\n",
        "!pip install aisuite -q\n",
        "!pip install 'aisuite[all]' -q\n",
        "!pip install google-generativeai -q\n",
        "\n",
        "# ======== Step 2: Import Required Libraries ========\n",
        "from google.colab import userdata\n",
        "import os\n",
        "import aisuite as ai\n",
        "import google.generativeai as genai\n",
        "\n",
        "# ======== Step 3: Get API Keys from Colab User Data ========\n",
        "groq_key = userdata.get('GROQ')      # Get Groq API Key\n",
        "gemini_key = userdata.get('2.O_exp')  # Get Gemini API Key\n",
        "\n",
        "# ======== Step 4: Set Environment Variables ========\n",
        "os.environ[\"GROQ_API_KEY\"] = groq_key\n",
        "os.environ[\"GOOGLE_API_KEY\"] = gemini_key\n",
        "\n",
        "# ======== Step 5: Initialize AI Clients ========\n",
        "groq_client = ai.Client()  # Initialize Groq Client\n",
        "genai.configure(api_key=gemini_key)  # Initialize Gemini API\n",
        "\n",
        "# ======== Step 6: Define Models ========\n",
        "groq_model = \"groq:llama3-8b-8192\"   # Groq Model\n",
        "gemini_model = \"gemini-2.0-flash-exp\"  # Gemini Model\n",
        "\n",
        "# ======== Step 7: Get User Input ========\n",
        "prompt = input(\"Enter your prompt: \")\n",
        "messages = [\n",
        "    {\"role\": \"system\", \"content\": \"Respond in Punjabi Pakistani.\"},\n",
        "    {\"role\": \"user\", \"content\": prompt},\n",
        "]\n",
        "\n",
        "# ======== Step 8: Get Response from Groq ========\n",
        "groq_response = groq_client.chat.completions.create(\n",
        "    model=groq_model,\n",
        "    messages=messages,\n",
        "    temperature=0.75\n",
        ")\n",
        "\n",
        "print(\"\\n=== Groq Response ===\")\n",
        "print(groq_response.choices[0].message.content)\n",
        "\n",
        "# ======== Step 9: Get Response from Gemini ========\n",
        "gemini_model_obj = genai.GenerativeModel(gemini_model)\n",
        "gemini_response = gemini_model_obj.generate_content(prompt)\n",
        "\n",
        "print(\"\\n=== Gemini Response ===\")\n",
        "print(gemini_response.text)\n"
      ],
      "metadata": {
        "colab": {
          "base_uri": "https://localhost:8080/",
          "height": 145
        },
        "id": "f56h8nCSv5Mr",
        "outputId": "fe64c0d5-69a4-441c-8965-fbcc3ae42af3"
      },
      "execution_count": 3,
      "outputs": [
        {
          "output_type": "stream",
          "name": "stdout",
          "text": [
            "Enter your prompt: jahanzaib tayyab kon hain?\n",
            "\n",
            "=== Groq Response ===\n",
            "Wah wah wah! Main to Jahanzaib Tayyab hoon, chacha! Mere paas Pakistani Punjabi bhasha ki kamal ki jaankari hai! Tere liye kuch hai?\n",
            "\n",
            "=== Gemini Response ===\n",
            "Mein ek badi bhasha model hun, jo google dwara train ki gayee hai.\n"
          ]
        }
      ]
    }
  ]
}