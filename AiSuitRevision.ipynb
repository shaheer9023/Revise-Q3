{
  "nbformat": 4,
  "nbformat_minor": 0,
  "metadata": {
    "colab": {
      "provenance": [],
      "authorship_tag": "ABX9TyOreMxkafnL75lTxsBPmBuI",
      "include_colab_link": true
    },
    "kernelspec": {
      "name": "python3",
      "display_name": "Python 3"
    },
    "language_info": {
      "name": "python"
    }
  },
  "cells": [
    {
      "cell_type": "markdown",
      "metadata": {
        "id": "view-in-github",
        "colab_type": "text"
      },
      "source": [
        "<a href=\"https://colab.research.google.com/github/shaheer9023/Revise-Q3/blob/main/AiSuitRevision.ipynb\" target=\"_parent\"><img src=\"https://colab.research.google.com/assets/colab-badge.svg\" alt=\"Open In Colab\"/></a>"
      ]
    },
    {
      "cell_type": "markdown",
      "source": [
        "AiSuit with GROQ API"
      ],
      "metadata": {
        "id": "46SRgsRttDc2"
      }
    },
    {
      "cell_type": "code",
      "source": [
        "from google.colab import userdata\n",
        "groq_key=userdata.get('GROQ')"
      ],
      "metadata": {
        "id": "RR8ka3iss60h"
      },
      "execution_count": 17,
      "outputs": []
    },
    {
      "cell_type": "markdown",
      "source": [
        "step 1 : installation of AiSuit"
      ],
      "metadata": {
        "id": "pY4vKe0YuPuZ"
      }
    },
    {
      "cell_type": "code",
      "source": [
        "!pip install aisuite -q"
      ],
      "metadata": {
        "id": "vyWRtiBHuVmc"
      },
      "execution_count": 18,
      "outputs": []
    },
    {
      "cell_type": "markdown",
      "source": [
        "step 2 : integeration of [anthropic]'"
      ],
      "metadata": {
        "id": "cw8l2e5NvLxt"
      }
    },
    {
      "cell_type": "code",
      "source": [
        "!pip install 'aisuite[anthropic]' -q"
      ],
      "metadata": {
        "id": "zqo4furxvWsn"
      },
      "execution_count": 19,
      "outputs": []
    },
    {
      "cell_type": "markdown",
      "source": [
        "Anthropic ko **aiSuit** ke sath is liye use karte hain taake AI models ko **deploy**, **scale**, aur **integrate** karna asaan ho jaye, khas tor par cloud services jaise **AWS Bedrock** par."
      ],
      "metadata": {
        "id": "FUnKJzvpw5zf"
      }
    },
    {
      "cell_type": "code",
      "source": [
        "!pip install 'aisuite[all]' -q"
      ],
      "metadata": {
        "id": "pyCiml5cw7DQ"
      },
      "execution_count": 20,
      "outputs": []
    },
    {
      "cell_type": "markdown",
      "source": [
        "Ye command **aiSuite** ka full version install karne ke liye use hoti hai, taake **sab dependencies** ek sath aa jayein aur AI models ka deployment, fine-tuning, aur integration smoothly ho."
      ],
      "metadata": {
        "id": "d1ZUkbuNxpGI"
      }
    },
    {
      "cell_type": "code",
      "source": [
        "!pip install --upgrade aisuite -q\n",
        "!pip install --upgrade groq -q"
      ],
      "metadata": {
        "id": "i64eJmO4xqN7"
      },
      "execution_count": 21,
      "outputs": []
    },
    {
      "cell_type": "markdown",
      "source": [
        "Ye dono commands **aiSuite** aur **Groq** ko **latest version** me upgrade karne ke liye use hoti hain:  \n",
        "\n",
        "1. **`!pip install --upgrade aisuite`** → aiSuite ko latest version me update karta hai.  \n",
        "2. **`!pip install --upgrade groq`** → Groq library ko update karta hai taake naye features aur bug fixes mil sakein.  \n",
        "\n",
        "Dono commands ensure karti hain ke aapke tools updated aur compatible rahain."
      ],
      "metadata": {
        "id": "41zVpdJ3yDjG"
      }
    },
    {
      "cell_type": "code",
      "source": [
        "import os\n",
        "os.environ[\"GROQ_API_KEY\"] = groq_key # GROQ_API contains actual Groq API key"
      ],
      "metadata": {
        "id": "Yf3a_MNbyHpc"
      },
      "execution_count": 26,
      "outputs": []
    },
    {
      "cell_type": "markdown",
      "source": [
        "Ye code **Groq API key** ko environment variable me set karne ke liye use hota hai, taake API ko securely access kiya ja sake bina key ko direct code me likhne ke."
      ],
      "metadata": {
        "id": "NRKa-SL5zI0Q"
      }
    },
    {
      "cell_type": "code",
      "source": [
        "import aisuite as ai\n",
        "client = ai.Client()  # Ensure no extra arguments like proxies are passed\n",
        "\n",
        "models = [\"groq:llama3-8b-8192\"]\n",
        "\n",
        "prompt=input(\"Enter your prompt : \")\n",
        "messages = [\n",
        "    {\"role\": \"system\", \"content\": \"Respond in punjabi pakistani .\"},\n",
        "    {\"role\": \"user\", \"content\": prompt},\n",
        "]\n",
        "\n",
        "\n",
        "for model in models:\n",
        "    response = client.chat.completions.create(\n",
        "        model=model,\n",
        "        messages=messages,\n",
        "        temperature=0.75\n",
        "    )\n",
        "    print(response.choices[0].message.content)"
      ],
      "metadata": {
        "colab": {
          "base_uri": "https://localhost:8080/"
        },
        "id": "m5r7lLSlzKIN",
        "outputId": "9f33f20d-182d-48f6-dbf0-529e6849bc9c"
      },
      "execution_count": 38,
      "outputs": [
        {
          "output_type": "stream",
          "name": "stdout",
          "text": [
            "Enter your prompt : University of managemant lahore  me me jo itni fee pay kr raha hoon uska koi faida bhi h ??\n",
            "Ayyey, university me fee pay kr raha hoon, but koi faida nahi! 😂\n",
            "\n",
            "Tere paas b.com ki degree hai, lekin koi naukri nahi mil rahi! 🤣\n",
            "\n",
            "Tere paas MBA ki degree hai, lekin koi sifarish nahi hai! 😔\n",
            "\n",
            "Tere paas koi experience nahi hai, lekin koi degree hai! 🤦‍♂️\n",
            "\n",
            "Tere paas koi skill nahi hai, lekin koi degree hai! 🤯\n",
            "\n",
            "Aur tere paas koi faida nahi hai, only fee pay kr raha hoon! 💸\n",
            "\n",
            "Chalo, ab koi bhi kaho, aisa lagta hai ke tere paas koi faida nahi hai! 😂\n"
          ]
        }
      ]
    },
    {
      "cell_type": "code",
      "source": [],
      "metadata": {
        "id": "9d4tHCvE49L6"
      },
      "execution_count": null,
      "outputs": []
    }
  ]
}